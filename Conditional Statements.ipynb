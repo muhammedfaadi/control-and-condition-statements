{
 "cells": [
  {
   "cell_type": "code",
   "execution_count": 9,
   "id": "cf18be7e-3275-469f-ab05-3f3a7987c592",
   "metadata": {},
   "outputs": [
    {
     "name": "stdout",
     "output_type": "stream",
     "text": [
      "You are ELIGIBLE to vote\n"
     ]
    }
   ],
   "source": [
    "#Simple IF statement --> Condition True\n",
    "age=18\n",
    "if age>=18:\n",
    "    print('You are ELIGIBLE to vote')"
   ]
  },
  {
   "cell_type": "code",
   "execution_count": 8,
   "id": "9c9629f9-c08b-49ef-a706-a4a3f73f5c8a",
   "metadata": {},
   "outputs": [],
   "source": [
    "#Simple IF statement --> Condition False\n",
    "age=18\n",
    "if age>18:\n",
    "    print('You are ELIGIBLE to vote')  "
   ]
  },
  {
   "cell_type": "code",
   "execution_count": 7,
   "id": "d3f6caf0-ee6b-4cc3-9dcd-9a774267308e",
   "metadata": {},
   "outputs": [
    {
     "name": "stdout",
     "output_type": "stream",
     "text": [
      "You are INELIGIBLE to vote\n"
     ]
    }
   ],
   "source": [
    "#IF/ELSE statement\n",
    "age=18\n",
    "if age>18:\n",
    "    print('You are ELIGIBLE to vote')\n",
    "else:\n",
    "    print('You are INELIGIBLE to vote')"
   ]
  },
  {
   "cell_type": "code",
   "execution_count": 11,
   "id": "35ca32c3-d232-4fb3-9d1b-b68abc87cf07",
   "metadata": {},
   "outputs": [
    {
     "name": "stdin",
     "output_type": "stream",
     "text": [
      "Enter the age 11\n"
     ]
    },
    {
     "name": "stdout",
     "output_type": "stream",
     "text": [
      "You are INELIGIBLE to vote\n"
     ]
    }
   ],
   "source": [
    "# Checking the condition by fetching user values \n",
    "age=int(input('Enter the age'))\n",
    "if age>=18:\n",
    "    print('You are ELIGIBLE to vote')\n",
    "else:\n",
    "    print('You are INELIGIBLE to vote')"
   ]
  },
  {
   "cell_type": "code",
   "execution_count": 18,
   "id": "e8d0483b-1ea2-41f6-a943-55265a6f7da2",
   "metadata": {},
   "outputs": [
    {
     "name": "stdin",
     "output_type": "stream",
     "text": [
      "Enter the age 60\n"
     ]
    },
    {
     "name": "stdout",
     "output_type": "stream",
     "text": [
      "SENIOR CITIZEN\n"
     ]
    }
   ],
   "source": [
    "#ELIF LADDER statement\n",
    "age=int(input('Enter the age'))\n",
    "if age<18:\n",
    "    print(\"MINOR\")\n",
    "elif age>=18 and age<60:\n",
    "    print(\"ADULT\")\n",
    "else:\n",
    "    print('SENIOR CITIZEN')"
   ]
  },
  {
   "cell_type": "code",
   "execution_count": 31,
   "id": "b43f378b-cbb7-4147-baae-8172fe76aaa4",
   "metadata": {},
   "outputs": [
    {
     "name": "stdin",
     "output_type": "stream",
     "text": [
      "Enter your Mark 75\n"
     ]
    },
    {
     "name": "stdout",
     "output_type": "stream",
     "text": [
      "You have secured B GRADE\n"
     ]
    }
   ],
   "source": [
    "# Evaluating Grade on the basis of marks\n",
    "m=int(input('Enter your Mark'))\n",
    "if m>=90:\n",
    "    print('You have secured A GRADE')\n",
    "elif m>=75:\n",
    "    print('You have secured B GRADE')\n",
    "elif m>=65:\n",
    "    print('You have secured C GRADE')\n",
    "elif m>=55:\n",
    "    print('You have secured D GRADE')\n",
    "else:\n",
    "    print('You have been FAILED')"
   ]
  },
  {
   "cell_type": "code",
   "execution_count": 57,
   "id": "cc0c4d4c-3ffa-416d-bc6d-92d168f4b1e0",
   "metadata": {},
   "outputs": [
    {
     "name": "stdin",
     "output_type": "stream",
     "text": [
      "Enter your age 25\n",
      "Do you have a VOTER ID(True/False): False\n"
     ]
    },
    {
     "name": "stdout",
     "output_type": "stream",
     "text": [
      "You need an voter ID\n"
     ]
    }
   ],
   "source": [
    "#Nested IF statement\n",
    "age=int(input('Enter your age'))\n",
    "voter_id=input('Do you have a VOTER ID(True/False):')=='True'\n",
    "if age>=18:\n",
    "    if voter_id==True:\n",
    "        print('You can vote')\n",
    "    else:\n",
    "        print('You need an voter ID')\n",
    "else:\n",
    "    print('You are Minor')"
   ]
  },
  {
   "cell_type": "code",
   "execution_count": 45,
   "id": "1116b612-2145-4191-8a8e-ff4d1ad0adc1",
   "metadata": {},
   "outputs": [
    {
     "data": {
      "text/plain": [
       "False"
      ]
     },
     "execution_count": 45,
     "metadata": {},
     "output_type": "execute_result"
    }
   ],
   "source": [
    "bool(False)"
   ]
  },
  {
   "cell_type": "code",
   "execution_count": 54,
   "id": "9ff9796a-88c2-458b-8a7b-79bd3d36b28d",
   "metadata": {},
   "outputs": [
    {
     "name": "stdin",
     "output_type": "stream",
     "text": [
      "Enter your age 25\n",
      "Do you have a VOTER ID (Y/N): False\n"
     ]
    },
    {
     "name": "stdout",
     "output_type": "stream",
     "text": [
      "You need an voter ID\n"
     ]
    }
   ],
   "source": [
    "age=int(input('Enter your age'))\n",
    "voter_id=input('Do you have a VOTER ID (Y/N):')\n",
    "if voter_id=='y' or voter_id=='Y':\n",
    "    True\n",
    "else:\n",
    "    False\n",
    "if age>=18:\n",
    "    if voter_id==True:\n",
    "        print('You can vote')\n",
    "    else:\n",
    "        print('You need an voter ID')\n",
    "else:\n",
    "    print('You are Minor')\n",
    "    "
   ]
  },
  {
   "cell_type": "code",
   "execution_count": null,
   "id": "a3e4673e-d6e1-422c-9287-24f33838811e",
   "metadata": {},
   "outputs": [],
   "source": []
  }
 ],
 "metadata": {
  "kernelspec": {
   "display_name": "Python 3 (ipykernel)",
   "language": "python",
   "name": "python3"
  },
  "language_info": {
   "codemirror_mode": {
    "name": "ipython",
    "version": 3
   },
   "file_extension": ".py",
   "mimetype": "text/x-python",
   "name": "python",
   "nbconvert_exporter": "python",
   "pygments_lexer": "ipython3",
   "version": "3.13.5"
  }
 },
 "nbformat": 4,
 "nbformat_minor": 5
}
